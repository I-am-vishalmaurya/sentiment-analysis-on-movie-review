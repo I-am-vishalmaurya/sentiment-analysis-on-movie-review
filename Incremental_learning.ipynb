{
 "cells": [
  {
   "cell_type": "code",
   "execution_count": 1,
   "metadata": {},
   "outputs": [
    {
     "name": "stdout",
     "output_type": "stream",
     "text": [
      "              precision    recall  f1-score   support\n",
      "\n",
      "    negative       0.91      0.86      0.88      6277\n",
      "    positive       0.86      0.92      0.89      6223\n",
      "\n",
      "    accuracy                           0.89     12500\n",
      "   macro avg       0.89      0.89      0.89     12500\n",
      "weighted avg       0.89      0.89      0.89     12500\n",
      "\n"
     ]
    },
    {
     "data": {
      "image/png": "[encoded data removed]",
      "text/plain": [
       "<Figure size 432x288 with 2 Axes>"
      ]
     },
     "metadata": {
      "needs_background": "light"
     },
     "output_type": "display_data"
    }
   ],
   "source": [
    "%run svmmodel.ipynb"
   ]
  },
  {
   "cell_type": "code",
   "execution_count": 8,
   "metadata": {},
   "outputs": [
    {
     "name": "stdout",
     "output_type": "stream",
     "text": [
      "['the acting was third class by actors still some people loved it but i didnt enjoy it']\n",
      "['positive']\n"
     ]
    }
   ],
   "source": [
    "inputs = ['the acting was third class by actors still some people loved it but i didnt enjoy it']\n",
    "print(inputs)\n",
    "print(clf.predict(cv.transform(inputs)))\n",
    "\n"
   ]
  },
  {
   "cell_type": "code",
   "execution_count": 9,
   "metadata": {},
   "outputs": [],
   "source": [
    "# incremental training\n",
    "X_instance = cv.transform(inputs)\n",
    "y_instance = ['negative']\n",
    "max_iter = 100\n",
    "\n",
    "for i in range(0, max_iter):\n",
    "    clf.partial_fit(X_instance, y_instance)\n",
    "    if(clf.predict(X_instance) == y_instance):\n",
    "        break"
   ]
  },
  {
   "cell_type": "code",
   "execution_count": 10,
   "metadata": {},
   "outputs": [
    {
     "name": "stdout",
     "output_type": "stream",
     "text": [
      "['the acting was third class by actors still some people loved it but i didnt enjoy it']\n",
      "['negative']\n"
     ]
    }
   ],
   "source": [
    "print(inputs)\n",
    "print(clf.predict(cv.transform(inputs)))"
   ]
  },
  {
   "cell_type": "code",
   "execution_count": 11,
   "metadata": {},
   "outputs": [
    {
     "data": {
      "text/plain": [
       "['review_sentiment.pkl']"
      ]
     },
     "execution_count": 11,
     "metadata": {},
     "output_type": "execute_result"
    }
   ],
   "source": [
    "\n",
    "# save newly trained model\n",
    "joblib.dump(cv, 'input_transformer.pkl')\n",
    "joblib.dump(clf, 'review_sentiment.pkl')"
   ]
  },
  {
   "cell_type": "code",
   "execution_count": null,
   "metadata": {},
   "outputs": [],
   "source": []
  }
 ],
 "metadata": {
  "kernelspec": {
   "display_name": "Python 3",
   "language": "python",
   "name": "python3"
  },
  "language_info": {
   "codemirror_mode": {
    "name": "ipython",
    "version": 3
   },
   "file_extension": ".py",
   "mimetype": "text/x-python",
   "name": "python",
   "nbconvert_exporter": "python",
   "pygments_lexer": "ipython3",
   "version": "3.8.3"
  }
 },
 "nbformat": 4,
 "nbformat_minor": 4
}
