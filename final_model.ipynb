{
 "nbformat": 4,
 "nbformat_minor": 0,
 "metadata": {
  "colab": {
   "name": "final_model.ipynb",
   "provenance": [],
   "collapsed_sections": []
  },
  "kernelspec": {
   "display_name": "Python 3",
   "name": "python3"
  },
  "language_info": {
   "name": "python"
  },
  "accelerator": "GPU"
 },
 "cells": [
  {
   "cell_type": "code",
   "metadata": {
    "colab": {
     "base_uri": "https://localhost:8080/"
    },
    "id": "thtZShHsixzW",
    "outputId": "234f3365-51a0-4b3d-d8ad-8b7eda2970f5"
   },
   "source": [
    "from google.colab import drive\n",
    "drive.mount('/content/drive/')"
   ],
   "execution_count": 4,
   "outputs": [
    {
     "output_type": "stream",
     "text": [
      "Mounted at /content/drive/\n"
     ],
     "name": "stdout"
    }
   ]
  },
  {
   "cell_type": "code",
   "metadata": {
    "id": "sNypi-p7i-1c"
   },
   "source": [
    "import pandas as pd\n",
    "import numpy as np\n",
    "\n",
    "from sklearn.feature_extraction.text import CountVectorizer\n",
    "import keras\n",
    "from tensorflow.keras.layers import *\n",
    "from keras.preprocessing.text import Tokenizer\n",
    "from keras.preprocessing.sequence import pad_sequences\n",
    "from keras.models import *\n",
    "from sklearn.model_selection import train_test_split\n",
    "from keras.utils.np_utils import to_categorical\n",
    "import re"
   ],
   "execution_count": 5,
   "outputs": []
  },
  {
   "cell_type": "code",
   "metadata": {
    "id": "y8ZoU7kijR1C"
   },
   "source": [
    "data = pd.read_csv(\"/content/drive/MyDrive/Data Science/IMDB_movie_review/IMDB Dataset.csv\")"
   ],
   "execution_count": 6,
   "outputs": []
  },
  {
   "cell_type": "code",
   "metadata": {
    "id": "frI57zfhjUwt"
   },
   "source": [
    "def remove_tags(strings):\n",
    "  result = re.sub('<.*?>','', strings)\n",
    "  return result\n",
    "data['review'] = data['review'].apply(lambda x: x.lower())\n",
    "data['review'] = data['review'].apply(lambda x: remove_tags(x))"
   ],
   "execution_count": 7,
   "outputs": []
  },
  {
   "cell_type": "code",
   "metadata": {
    "colab": {
     "base_uri": "https://localhost:8080/",
     "height": 195
    },
    "id": "J9267KSMjV56",
    "outputId": "04602016-fd5b-405d-b681-b2a25f1b49b9"
   },
   "source": [
    "data.head()"
   ],
   "execution_count": 8,
   "outputs": [
    {
     "output_type": "execute_result",
     "data": {
      "text/html": [
       "<div>\n",
       "<style scoped>\n",
       "    .dataframe tbody tr th:only-of-type {\n",
       "        vertical-align: middle;\n",
       "    }\n",
       "\n",
       "    .dataframe tbody tr th {\n",
       "        vertical-align: top;\n",
       "    }\n",
       "\n",
       "    .dataframe thead th {\n",
       "        text-align: right;\n",
       "    }\n",
       "</style>\n",
       "<table border=\"1\" class=\"dataframe\">\n",
       "  <thead>\n",
       "    <tr style=\"text-align: right;\">\n",
       "      <th></th>\n",
       "      <th>review</th>\n",
       "      <th>sentiment</th>\n",
       "    </tr>\n",
       "  </thead>\n",
       "  <tbody>\n",
       "    <tr>\n",
       "      <th>0</th>\n",
       "      <td>one of the other reviewers has mentioned that ...</td>\n",
       "      <td>positive</td>\n",
       "    </tr>\n",
       "    <tr>\n",
       "      <th>1</th>\n",
       "      <td>a wonderful little production. the filming tec...</td>\n",
       "      <td>positive</td>\n",
       "    </tr>\n",
       "    <tr>\n",
       "      <th>2</th>\n",
       "      <td>i thought this was a wonderful way to spend ti...</td>\n",
       "      <td>positive</td>\n",
       "    </tr>\n",
       "    <tr>\n",
       "      <th>3</th>\n",
       "      <td>basically there's a family where a little boy ...</td>\n",
       "      <td>negative</td>\n",
       "    </tr>\n",
       "    <tr>\n",
       "      <th>4</th>\n",
       "      <td>petter mattei's \"love in the time of money\" is...</td>\n",
       "      <td>positive</td>\n",
       "    </tr>\n",
       "  </tbody>\n",
       "</table>\n",
       "</div>"
      ],
      "text/plain": [
       "                                              review sentiment\n",
       "0  one of the other reviewers has mentioned that ...  positive\n",
       "1  a wonderful little production. the filming tec...  positive\n",
       "2  i thought this was a wonderful way to spend ti...  positive\n",
       "3  basically there's a family where a little boy ...  negative\n",
       "4  petter mattei's \"love in the time of money\" is...  positive"
      ]
     },
     "metadata": {
      "tags": []
     },
     "execution_count": 8
    }
   ]
  },
  {
   "cell_type": "code",
   "metadata": {
    "id": "bDjyyZU20mbO"
   },
   "source": [
    "tokenizer = Tokenizer(num_words=2000, split=' ')\n",
    "tokenizer.fit_on_texts(data['review'].values)\n",
    "X = tokenizer.texts_to_sequences(data['review'].values)\n",
    "X = pad_sequences(X)"
   ],
   "execution_count": 9,
   "outputs": []
  },
  {
   "cell_type": "code",
   "metadata": {
    "colab": {
     "base_uri": "https://localhost:8080/"
    },
    "id": "gTr1kDRZ4iS5",
    "outputId": "e9e35f27-3a9d-4503-a1ae-8f7086a63562"
   },
   "source": [
    "Y = pd.get_dummies(data['sentiment']).values\n",
    "X_train, X_test, Y_train, Y_test = train_test_split(X,Y, test_size = 0.33, random_state = 42)\n",
    "print(X_train.shape,Y_train.shape)\n",
    "print(X_test.shape,Y_test.shape)"
   ],
   "execution_count": 10,
   "outputs": [
    {
     "output_type": "stream",
     "text": [
      "(33500, 1853) (33500, 2)\n",
      "(16500, 1853) (16500, 2)\n"
     ],
     "name": "stdout"
    }
   ]
  },
  {
   "cell_type": "code",
   "metadata": {
    "id": "JkEXpv9L143F"
   },
   "source": [
    "dropout_rate = 0.3\n",
    "batch_size = 1000\n",
    "activation_func = keras.activations.relu\n",
    "\n",
    "schema = [\n",
    "          Embedding(5000, 10, input_length=120),\n",
    "          LSTM(32),\n",
    "          Dropout(dropout_rate),\n",
    "          Dense(32, activation=activation_func),\n",
    "          Dropout(dropout_rate),\n",
    "          Dense(2 , activation=keras.activations.softmax)\n",
    "]\n",
    "\n",
    "model = keras.Sequential(schema)\n",
    "model.compile(\n",
    "    optimizer=keras.optimizers.Adam() ,\n",
    "    loss=keras.losses.categorical_crossentropy ,\n",
    "    metrics=[ 'accuracy']\n",
    ")"
   ],
   "execution_count": 11,
   "outputs": []
  },
  {
   "cell_type": "code",
   "metadata": {
    "colab": {
     "base_uri": "https://localhost:8080/"
    },
    "id": "dPDoujz83_11",
    "outputId": "a119c69e-6859-4da4-baf8-f76c8d1b3c13"
   },
   "source": [
    "model.fit(X_train,Y_train,batch_size=1000, epochs=10)"
   ],
   "execution_count": 14,
   "outputs": [
    {
     "output_type": "stream",
     "text": [
      "Epoch 1/10\n",
      "34/34 [==============================] - 5s 161ms/step - loss: 0.2646 - accuracy: 0.8977\n",
      "Epoch 2/10\n",
      "34/34 [==============================] - 5s 160ms/step - loss: 0.2570 - accuracy: 0.9012\n",
      "Epoch 3/10\n",
      "34/34 [==============================] - 5s 162ms/step - loss: 0.2552 - accuracy: 0.9020\n",
      "Epoch 4/10\n",
      "34/34 [==============================] - 5s 161ms/step - loss: 0.2515 - accuracy: 0.9030\n",
      "Epoch 5/10\n",
      "34/34 [==============================] - 5s 161ms/step - loss: 0.2493 - accuracy: 0.9054\n",
      "Epoch 6/10\n",
      "34/34 [==============================] - 5s 161ms/step - loss: 0.2486 - accuracy: 0.9054\n",
      "Epoch 7/10\n",
      "34/34 [==============================] - 5s 161ms/step - loss: 0.2465 - accuracy: 0.9066\n",
      "Epoch 8/10\n",
      "34/34 [==============================] - 6s 162ms/step - loss: 0.2438 - accuracy: 0.9072\n",
      "Epoch 9/10\n",
      "34/34 [==============================] - 5s 161ms/step - loss: 0.2424 - accuracy: 0.9078\n",
      "Epoch 10/10\n",
      "34/34 [==============================] - 5s 160ms/step - loss: 0.2420 - accuracy: 0.9082\n"
     ],
     "name": "stdout"
    },
    {
     "output_type": "execute_result",
     "data": {
      "text/plain": [
       "<tensorflow.python.keras.callbacks.History at 0x7f8dbcdc11d0>"
      ]
     },
     "metadata": {
      "tags": []
     },
     "execution_count": 14
    }
   ]
  },
  {
   "cell_type": "code",
   "metadata": {
    "colab": {
     "base_uri": "https://localhost:8080/"
    },
    "id": "xFrODR11mH2k",
    "outputId": "90e3e6bb-e3e3-40a2-ba78-6727a916c934"
   },
   "source": [
    "model.summary()"
   ],
   "execution_count": 16,
   "outputs": [
    {
     "output_type": "stream",
     "text": [
      "Model: \"sequential\"\n",
      "_________________________________________________________________\n",
      "Layer (type)                 Output Shape              Param #   \n",
      "=================================================================\n",
      "embedding (Embedding)        (None, 120, 10)           50000     \n",
      "_________________________________________________________________\n",
      "lstm (LSTM)                  (None, 32)                5504      \n",
      "_________________________________________________________________\n",
      "dropout (Dropout)            (None, 32)                0         \n",
      "_________________________________________________________________\n",
      "dense (Dense)                (None, 32)                1056      \n",
      "_________________________________________________________________\n",
      "dropout_1 (Dropout)          (None, 32)                0         \n",
      "_________________________________________________________________\n",
      "dense_1 (Dense)              (None, 2)                 66        \n",
      "=================================================================\n",
      "Total params: 56,626\n",
      "Trainable params: 56,626\n",
      "Non-trainable params: 0\n",
      "_________________________________________________________________\n"
     ],
     "name": "stdout"
    }
   ]
  },
  {
   "cell_type": "code",
   "metadata": {
    "colab": {
     "base_uri": "https://localhost:8080/"
    },
    "id": "x6pM6rM55dH8",
    "outputId": "4597beee-0180-40fb-99ca-59fa2ca723ab"
   },
   "source": [
    "model.evaluate( X_test , Y_test ) "
   ],
   "execution_count": 17,
   "outputs": [
    {
     "output_type": "stream",
     "text": [
      "WARNING:tensorflow:Model was constructed with shape (None, 120) for input KerasTensor(type_spec=TensorSpec(shape=(None, 120), dtype=tf.float32, name='embedding_input'), name='embedding_input', description=\"created by layer 'embedding_input'\"), but it was called on an input with incompatible shape (None, 1853).\n",
      "516/516 [==============================] - 15s 29ms/step - loss: 0.2820 - accuracy: 0.8848\n"
     ],
     "name": "stdout"
    },
    {
     "output_type": "execute_result",
     "data": {
      "text/plain": [
       "[0.28198808431625366, 0.8848484754562378]"
      ]
     },
     "metadata": {
      "tags": []
     },
     "execution_count": 17
    }
   ]
  },
  {
   "cell_type": "code",
   "metadata": {
    "id": "swq8OOsLBxHX",
    "colab": {
     "base_uri": "https://localhost:8080/"
    },
    "outputId": "0e23d322-72c2-47e4-bd10-df60de4ec9df"
   },
   "source": [
    "!mkdir -p saved_model\n",
    "model.save('/content/drive/MyDrive/Data Science/IMDB_movie_review/final_model')"
   ],
   "execution_count": 26,
   "outputs": [
    {
     "output_type": "stream",
     "text": [
      "WARNING:absl:Found untraced functions such as lstm_cell_layer_call_fn, lstm_cell_layer_call_and_return_conditional_losses, lstm_cell_layer_call_fn, lstm_cell_layer_call_and_return_conditional_losses, lstm_cell_layer_call_and_return_conditional_losses while saving (showing 5 of 5). These functions will not be directly callable after loading.\n",
      "WARNING:absl:Found untraced functions such as lstm_cell_layer_call_fn, lstm_cell_layer_call_and_return_conditional_losses, lstm_cell_layer_call_fn, lstm_cell_layer_call_and_return_conditional_losses, lstm_cell_layer_call_and_return_conditional_losses while saving (showing 5 of 5). These functions will not be directly callable after loading.\n"
     ],
     "name": "stderr"
    },
    {
     "output_type": "stream",
     "text": [
      "INFO:tensorflow:Assets written to: /content/drive/MyDrive/Data Science/IMDB_movie_review/final_model/assets\n"
     ],
     "name": "stdout"
    },
    {
     "output_type": "stream",
     "text": [
      "INFO:tensorflow:Assets written to: /content/drive/MyDrive/Data Science/IMDB_movie_review/final_model/assets\n"
     ],
     "name": "stderr"
    }
   ]
  },
  {
   "cell_type": "code",
   "metadata": {
    "colab": {
     "base_uri": "https://localhost:8080/"
    },
    "id": "-a3IV87rm7Xu",
    "outputId": "e36920fc-9c9f-44b7-a1ab-4d6af592c2fd"
   },
   "source": [
    "new_model = keras.models.load_model('saved_model/my_model')\n",
    "new_model.summary()"
   ],
   "execution_count": 19,
   "outputs": [
    {
     "output_type": "stream",
     "text": [
      "Model: \"sequential\"\n",
      "_________________________________________________________________\n",
      "Layer (type)                 Output Shape              Param #   \n",
      "=================================================================\n",
      "embedding (Embedding)        (None, 120, 10)           50000     \n",
      "_________________________________________________________________\n",
      "lstm (LSTM)                  (None, 32)                5504      \n",
      "_________________________________________________________________\n",
      "dropout (Dropout)            (None, 32)                0         \n",
      "_________________________________________________________________\n",
      "dense (Dense)                (None, 32)                1056      \n",
      "_________________________________________________________________\n",
      "dropout_1 (Dropout)          (None, 32)                0         \n",
      "_________________________________________________________________\n",
      "dense_1 (Dense)              (None, 2)                 66        \n",
      "=================================================================\n",
      "Total params: 56,626\n",
      "Trainable params: 56,626\n",
      "Non-trainable params: 0\n",
      "_________________________________________________________________\n"
     ],
     "name": "stdout"
    }
   ]
  },
  {
   "cell_type": "code",
   "metadata": {
    "colab": {
     "base_uri": "https://localhost:8080/"
    },
    "id": "64j8LPkgnOm8",
    "outputId": "facb9b65-860d-4614-d6bd-3aed84927b11"
   },
   "source": [
    "new_model.evaluate( X_test , Y_test ) "
   ],
   "execution_count": 20,
   "outputs": [
    {
     "output_type": "stream",
     "text": [
      "WARNING:tensorflow:Model was constructed with shape (None, 120) for input KerasTensor(type_spec=TensorSpec(shape=(None, 120), dtype=tf.float32, name='embedding_input'), name='embedding_input', description=\"created by layer 'embedding_input'\"), but it was called on an input with incompatible shape (None, 1853).\n"
     ],
     "name": "stdout"
    },
    {
     "output_type": "stream",
     "text": [
      "WARNING:tensorflow:Model was constructed with shape (None, 120) for input KerasTensor(type_spec=TensorSpec(shape=(None, 120), dtype=tf.float32, name='embedding_input'), name='embedding_input', description=\"created by layer 'embedding_input'\"), but it was called on an input with incompatible shape (None, 1853).\n"
     ],
     "name": "stderr"
    },
    {
     "output_type": "stream",
     "text": [
      "516/516 [==============================] - 15s 29ms/step - loss: 0.2820 - accuracy: 0.8848\n"
     ],
     "name": "stdout"
    },
    {
     "output_type": "execute_result",
     "data": {
      "text/plain": [
       "[0.28198808431625366, 0.8848484754562378]"
      ]
     },
     "metadata": {
      "tags": []
     },
     "execution_count": 20
    }
   ]
  },
  {
   "cell_type": "code",
   "metadata": {
    "colab": {
     "base_uri": "https://localhost:8080/"
    },
    "id": "6zkH2ZCT7KI_",
    "outputId": "4157971f-4010-4cda-eed7-5a86ee2542d2"
   },
   "source": [
    "twt = 'That movie was soo bad.'\n",
    "#vectorizing the tweet by the pre-fitted tokenizer instance\n",
    "twt = tokenizer.texts_to_sequences(twt)\n",
    "#padding the tweet to have exactly the same shape as `embedding_2` input\n",
    "twt = (pad_sequencestwt, maxlen=28, dtype='int32', value=0)\n",
    "print(twt)\n",
    "sentiment = new_model.predict(twt,batch_size=1,verbose = 2)[0]\n",
    "if(np.argmax(sentiment) == 0):\n",
    "    print(\"negative\")\n",
    "elif (np.argmax(sentiment) == 1):\n",
    "    print(\"positive\")"
   ],
   "execution_count": 23,
   "outputs": [
    {
     "output_type": "stream",
     "text": [
      "[[ 0  0  0  0  0  0  0  0  0  0  0  0  0  0  0  0  0  0  0  0  0  0  0  0\n",
      "  11 16 12 73]]\n",
      "1/1 - 0s\n",
      "negative\n"
     ],
     "name": "stdout"
    }
   ]
  },
  {
   "cell_type": "code",
   "metadata": {
    "id": "tOGtASCdoXRU"
   },
   "source": [
    ""
   ],
   "execution_count": null,
   "outputs": []
  }
 ]
}